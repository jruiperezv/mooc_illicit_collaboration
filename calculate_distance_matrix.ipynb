{
 "cells": [
  {
   "cell_type": "code",
   "execution_count": 37,
   "metadata": {},
   "outputs": [],
   "source": [
    "# Load libraries\n",
    "import csv\n",
    "import pandas as pd\n",
    "import numpy as np\n",
    "import pdb\n",
    "import copy\n",
    "import scipy.spatial.distance\n",
    "import datetime\n",
    "import gc\n",
    "from scipy.stats import ttest_ind"
   ]
  },
  {
   "cell_type": "code",
   "execution_count": 56,
   "metadata": {},
   "outputs": [],
   "source": [
    "# PARAMETERS\n",
    "\n",
    "# Posible distances: mean_absolute_difference; mean_squared_differences; absolute_difference; squared_differences; cosine; euclidean\n",
    "distance_metric = 'mean_absolute_difference'\n",
    "\n",
    "# Assignments to keep (we can use all assignments)\n",
    "selectedItems = ['Quiz_1_2', 'Quiz_3', 'Quiz_4_5', 'Quiz_6', 'Quiz_7', 'Quiz_8', 'Quiz_9_10', 'Quiz_11', 'Quiz_12', 'Quiz_13', 'Quiz_14', 'Midterm_randxyzHP3X5J4M','Posttest_randxyzX9LZKV0I']\n",
    "\n",
    "# Mean percentage of items in common\n",
    "minPercentageCommonItems = 20"
   ]
  },
  {
   "cell_type": "code",
   "execution_count": 59,
   "metadata": {},
   "outputs": [],
   "source": [
    "submission_matrix = pd.read_csv(\"example_submission_matrix.csv\", index_col=0)"
   ]
  },
  {
   "cell_type": "code",
   "execution_count": 40,
   "metadata": {},
   "outputs": [
    {
     "data": {
      "text/plain": [
       "'\\nfor col in submission_matrix.columns:\\n    colsToKeep.append(col in selectedInputFields)\\n\\nsubmission_matrix = submission_matrix.iloc[:, colsToKeep]\\n'"
      ]
     },
     "execution_count": 40,
     "metadata": {},
     "output_type": "execute_result"
    }
   ],
   "source": [
    "# These lines could be used to use only a selection of assignments\n",
    "colsToKeep = []\n",
    "\"\"\"\n",
    "for col in submission_matrix.columns:\n",
    "    colsToKeep.append(col in selectedInputFields)\n",
    "\n",
    "submission_matrix = submission_matrix.iloc[:, colsToKeep]\n",
    "\"\"\""
   ]
  },
  {
   "cell_type": "code",
   "execution_count": 61,
   "metadata": {},
   "outputs": [],
   "source": [
    "percentageItems = round(100*(pd.notna(submission_matrix).sum(axis = 1)/len(submission_matrix.columns)))\n",
    "# print((percentageItems > minPercentageItems).sum())\n",
    "# students to keep with a minItems submitted\n",
    "minItems_submission_matrix = submission_matrix[percentageItems > minPercentageCommonItems]"
   ]
  },
  {
   "cell_type": "code",
   "execution_count": 62,
   "metadata": {},
   "outputs": [],
   "source": [
    "# Calculates the distance between two arrays of submissions timestamps:\n",
    "# arg1: Array of submissions 1\n",
    "# arg2: Array of submissions 2\n",
    "# distance_metric: The distance metric we want to compute choice in {absolute_difference, squared_differences, cosine, euclidean}\n",
    "# return: The distance beteween the two arrays of submissions for the chosen metric\n",
    "def compute_distance(submissions1, submissions2, distance_metric='absolute_difference', onlyCommonItems=True):\n",
    "    \n",
    "    # Here I adapt the two arrays of submissions to take into account only the common items\n",
    "    if(onlyCommonItems):\n",
    "        commonMask = (pd.notna(submissions1) & pd.notna(submissions2))      \n",
    "        percentageCommonItems = 100*(sum(commonMask)/len(submissions1))\n",
    "        submissions1 = pd.to_datetime(submissions1[commonMask])\n",
    "        submissions2 = pd.to_datetime(submissions2[commonMask])\n",
    "        \n",
    "    if(percentageCommonItems < 20):\n",
    "        return np.nan    \n",
    "    \n",
    "    if(distance_metric == 'absolute_difference'):\n",
    "        distance = np.absolute(submissions1 - submissions2).sum()\n",
    "    elif(distance_metric == 'mean_absolute_difference'):\n",
    "        distance = np.absolute(submissions1 - submissions2).sum()/len(submissions1)\n",
    "    elif(distance_metric == 'squared_differences'):\n",
    "        distance = pow((submissions1 - submissions2),2).sum()\n",
    "    elif(distance_metric == 'mean_squared_differences'):\n",
    "        distance = pow((submissions1 - submissions2),2).sum()/len(submissions1)\n",
    "    elif(distance_metric == 'euclidean'):\n",
    "        distance = scipy.spatial.distance.euclidean(submissions1, submissions2)\n",
    "    elif(distance_metric == 'cosine'):\n",
    "        distance = scipy.spatial.distance.cosine(submissions1, submissions2)\n",
    "    \n",
    "    return round(distance.total_seconds()/60)"
   ]
  },
  {
   "cell_type": "code",
   "execution_count": 46,
   "metadata": {},
   "outputs": [
    {
     "name": "stdout",
     "output_type": "stream",
     "text": [
      "1784\n"
     ]
    }
   ],
   "source": [
    "#(submission_matrix_noNA.iloc[1] - submission_matrix_noNA.iloc[2])/1000\n",
    "#scipy.spatial.distance.euclidean(submission_matrix_noNA.iloc[1], submission_matrix_noNA.iloc[2])\n",
    "# get lower diagonal http://stackoverflow.com/questions/26477901/python-pand3s-get-elements-index-col-below-diagonal-in-dataframe\n",
    "print(compute_distance(minItems_submission_matrix.iloc[1], minItems_submission_matrix.iloc[4], 'mean_absolute_difference'))\n",
    "#np.absolute(minItems_submission_matrix.iloc[1] - minItems_submission_matrix.iloc[2]).sum()/3600)/len(submission_matrix_noNA.iloc[2])\n",
    "#print compute_distance(submission_matrix_noNA.iloc[0]/3600, submission_matrix_noNA.iloc[5]/3600)\n",
    "\n",
    "#print (datetime.datetime.fromtimestamp(int(submission_matrix_noNA.loc['0023d437fc00a981e344ec69103b8f06955b675b'][0])) - datetime.datetime.fromtimestamp(int(submission_matrix_noNA.loc['0027319f7b8f28b9812ab075c6ca9678c6188b8d'][0]))).total_seconds() "
   ]
  },
  {
   "cell_type": "code",
   "execution_count": 63,
   "metadata": {
    "scrolled": false
   },
   "outputs": [
    {
     "name": "stdout",
     "output_type": "stream",
     "text": [
      "Starting...\n",
      "0\n",
      "50\n",
      "100\n",
      "...Finished!\n"
     ]
    }
   ],
   "source": [
    "# Creating distances matrix in minutes\n",
    "distance_matrix = pd.DataFrame()\n",
    "print(\"Starting...\")\n",
    "for index, studentCol in enumerate(minItems_submission_matrix.index):\n",
    "    if (index % 50) == 0:\n",
    "        print(index)\n",
    "    distancesStudentCol = []\n",
    "    for studentRow in minItems_submission_matrix.index:\n",
    "        distancesStudentCol.append(compute_distance(minItems_submission_matrix.loc[studentCol], \n",
    "                                                    minItems_submission_matrix.loc[studentRow], \n",
    "                                                    distance_metric))\n",
    "    distance_matrix[studentCol] = distancesStudentCol\n",
    "\n",
    "print(\"...Finished!\")\n",
    "distance_matrix.index = minItems_submission_matrix.index"
   ]
  },
  {
   "cell_type": "code",
   "execution_count": 18,
   "metadata": {
    "scrolled": true
   },
   "outputs": [],
   "source": [
    "# Save distance matrix\n",
    "distance_matrix.to_csv(\"distance_matrix_\" + distance_metric + \"_\" + selectedItems +\".csv\", sep=\";\", header=True, na_rep=np.nan, index=False)"
   ]
  },
  {
   "cell_type": "code",
   "execution_count": null,
   "metadata": {},
   "outputs": [],
   "source": [
    "# Load distance matrix\n",
    "distance_matrix = pd.read_csv(\"distance_matrix_\" + distance_metric + \"_\" + selectedItems +\".csv\", sep=\";\")"
   ]
  },
  {
   "cell_type": "code",
   "execution_count": 66,
   "metadata": {},
   "outputs": [],
   "source": [
    "# Create mask for unique triplets {student1, student2, distance} --\n",
    "mask = np.ones(distance_matrix.shape, dtype=bool)\n",
    "mask[np.triu_indices(len(distance_matrix))] = False\n",
    "#distance_matrix = distance_matrix[mask] --> # THIS WAS THROWING A MEMORY LEAK, IM DOING A SIMPLE LOOP INSTEAD"
   ]
  },
  {
   "cell_type": "code",
   "execution_count": 67,
   "metadata": {},
   "outputs": [
    {
     "name": "stdout",
     "output_type": "stream",
     "text": [
      "Starting...\n",
      "...Finished!\n"
     ]
    }
   ],
   "source": [
    "counter = 0\n",
    "studentIDs = list(distance_matrix.columns.values)\n",
    "\n",
    "students1 = []\n",
    "students2 = []\n",
    "distances = []\n",
    "\n",
    "tripletsDataframe = pd.DataFrame()\n",
    "print(\"Starting...\")\n",
    "\n",
    "for index, celBool in np.ndenumerate(mask):\n",
    "    counter += 1\n",
    "    if (counter % 200000) == 0:\n",
    "        print(str((counter/float(distance_matrix.size))*100) + \"%\")\n",
    "    if(celBool):\n",
    "        students1.append(studentIDs[index[0]])\n",
    "        students2.append(studentIDs[index[1]])\n",
    "        distances.append(distance_matrix.iloc[index[0],index[1]])\n",
    "\n",
    "tripletsDataframe['students1'] = students1\n",
    "tripletsDataframe['students2'] = students2\n",
    "tripletsDataframe['distances'] = distances\n",
    "\n",
    "print(\"...Finished!\")"
   ]
  },
  {
   "cell_type": "code",
   "execution_count": 70,
   "metadata": {},
   "outputs": [
    {
     "data": {
      "text/html": [
       "<div>\n",
       "<style scoped>\n",
       "    .dataframe tbody tr th:only-of-type {\n",
       "        vertical-align: middle;\n",
       "    }\n",
       "\n",
       "    .dataframe tbody tr th {\n",
       "        vertical-align: top;\n",
       "    }\n",
       "\n",
       "    .dataframe thead th {\n",
       "        text-align: right;\n",
       "    }\n",
       "</style>\n",
       "<table border=\"1\" class=\"dataframe\">\n",
       "  <thead>\n",
       "    <tr style=\"text-align: right;\">\n",
       "      <th></th>\n",
       "      <th>students1</th>\n",
       "      <th>students2</th>\n",
       "      <th>distances</th>\n",
       "    </tr>\n",
       "  </thead>\n",
       "  <tbody>\n",
       "    <tr>\n",
       "      <th>116</th>\n",
       "      <td>27</td>\n",
       "      <td>20</td>\n",
       "      <td>23.0</td>\n",
       "    </tr>\n",
       "    <tr>\n",
       "      <th>896</th>\n",
       "      <td>85</td>\n",
       "      <td>67</td>\n",
       "      <td>4.0</td>\n",
       "    </tr>\n",
       "    <tr>\n",
       "      <th>914</th>\n",
       "      <td>86</td>\n",
       "      <td>20</td>\n",
       "      <td>13.0</td>\n",
       "    </tr>\n",
       "    <tr>\n",
       "      <th>970</th>\n",
       "      <td>88</td>\n",
       "      <td>45</td>\n",
       "      <td>16.0</td>\n",
       "    </tr>\n",
       "    <tr>\n",
       "      <th>1046</th>\n",
       "      <td>91</td>\n",
       "      <td>20</td>\n",
       "      <td>9.0</td>\n",
       "    </tr>\n",
       "    <tr>\n",
       "      <th>1078</th>\n",
       "      <td>91</td>\n",
       "      <td>86</td>\n",
       "      <td>4.0</td>\n",
       "    </tr>\n",
       "    <tr>\n",
       "      <th>1286</th>\n",
       "      <td>104</td>\n",
       "      <td>20</td>\n",
       "      <td>8.0</td>\n",
       "    </tr>\n",
       "    <tr>\n",
       "      <th>1318</th>\n",
       "      <td>104</td>\n",
       "      <td>86</td>\n",
       "      <td>5.0</td>\n",
       "    </tr>\n",
       "    <tr>\n",
       "      <th>1321</th>\n",
       "      <td>104</td>\n",
       "      <td>91</td>\n",
       "      <td>1.0</td>\n",
       "    </tr>\n",
       "    <tr>\n",
       "      <th>1718</th>\n",
       "      <td>119</td>\n",
       "      <td>12</td>\n",
       "      <td>4.0</td>\n",
       "    </tr>\n",
       "    <tr>\n",
       "      <th>1959</th>\n",
       "      <td>128</td>\n",
       "      <td>11</td>\n",
       "      <td>6.0</td>\n",
       "    </tr>\n",
       "    <tr>\n",
       "      <th>2554</th>\n",
       "      <td>143</td>\n",
       "      <td>140</td>\n",
       "      <td>13.0</td>\n",
       "    </tr>\n",
       "    <tr>\n",
       "      <th>2794</th>\n",
       "      <td>149</td>\n",
       "      <td>32</td>\n",
       "      <td>17.0</td>\n",
       "    </tr>\n",
       "    <tr>\n",
       "      <th>3020</th>\n",
       "      <td>154</td>\n",
       "      <td>30</td>\n",
       "      <td>3.0</td>\n",
       "    </tr>\n",
       "    <tr>\n",
       "      <th>4345</th>\n",
       "      <td>192</td>\n",
       "      <td>137</td>\n",
       "      <td>23.0</td>\n",
       "    </tr>\n",
       "    <tr>\n",
       "      <th>4387</th>\n",
       "      <td>193</td>\n",
       "      <td>29</td>\n",
       "      <td>14.0</td>\n",
       "    </tr>\n",
       "    <tr>\n",
       "      <th>4742</th>\n",
       "      <td>199</td>\n",
       "      <td>176</td>\n",
       "      <td>13.0</td>\n",
       "    </tr>\n",
       "    <tr>\n",
       "      <th>4882</th>\n",
       "      <td>204</td>\n",
       "      <td>62</td>\n",
       "      <td>7.0</td>\n",
       "    </tr>\n",
       "    <tr>\n",
       "      <th>4982</th>\n",
       "      <td>208</td>\n",
       "      <td>64</td>\n",
       "      <td>1.0</td>\n",
       "    </tr>\n",
       "    <tr>\n",
       "      <th>5126</th>\n",
       "      <td>211</td>\n",
       "      <td>152</td>\n",
       "      <td>20.0</td>\n",
       "    </tr>\n",
       "    <tr>\n",
       "      <th>5911</th>\n",
       "      <td>224</td>\n",
       "      <td>48</td>\n",
       "      <td>5.0</td>\n",
       "    </tr>\n",
       "    <tr>\n",
       "      <th>6129</th>\n",
       "      <td>227</td>\n",
       "      <td>45</td>\n",
       "      <td>21.0</td>\n",
       "    </tr>\n",
       "    <tr>\n",
       "      <th>6191</th>\n",
       "      <td>227</td>\n",
       "      <td>176</td>\n",
       "      <td>20.0</td>\n",
       "    </tr>\n",
       "    <tr>\n",
       "      <th>6357</th>\n",
       "      <td>236</td>\n",
       "      <td>57</td>\n",
       "      <td>8.0</td>\n",
       "    </tr>\n",
       "    <tr>\n",
       "      <th>7622</th>\n",
       "      <td>257</td>\n",
       "      <td>249</td>\n",
       "      <td>10.0</td>\n",
       "    </tr>\n",
       "    <tr>\n",
       "      <th>8285</th>\n",
       "      <td>270</td>\n",
       "      <td>57</td>\n",
       "      <td>22.0</td>\n",
       "    </tr>\n",
       "    <tr>\n",
       "      <th>8559</th>\n",
       "      <td>273</td>\n",
       "      <td>88</td>\n",
       "      <td>21.0</td>\n",
       "    </tr>\n",
       "    <tr>\n",
       "      <th>9027</th>\n",
       "      <td>277</td>\n",
       "      <td>241</td>\n",
       "      <td>29.0</td>\n",
       "    </tr>\n",
       "  </tbody>\n",
       "</table>\n",
       "</div>"
      ],
      "text/plain": [
       "      students1  students2  distances\n",
       "116          27         20       23.0\n",
       "896          85         67        4.0\n",
       "914          86         20       13.0\n",
       "970          88         45       16.0\n",
       "1046         91         20        9.0\n",
       "1078         91         86        4.0\n",
       "1286        104         20        8.0\n",
       "1318        104         86        5.0\n",
       "1321        104         91        1.0\n",
       "1718        119         12        4.0\n",
       "1959        128         11        6.0\n",
       "2554        143        140       13.0\n",
       "2794        149         32       17.0\n",
       "3020        154         30        3.0\n",
       "4345        192        137       23.0\n",
       "4387        193         29       14.0\n",
       "4742        199        176       13.0\n",
       "4882        204         62        7.0\n",
       "4982        208         64        1.0\n",
       "5126        211        152       20.0\n",
       "5911        224         48        5.0\n",
       "6129        227         45       21.0\n",
       "6191        227        176       20.0\n",
       "6357        236         57        8.0\n",
       "7622        257        249       10.0\n",
       "8285        270         57       22.0\n",
       "8559        273         88       21.0\n",
       "9027        277        241       29.0"
      ]
     },
     "execution_count": 70,
     "metadata": {},
     "output_type": "execute_result"
    }
   ],
   "source": [
    "tripletsDataframe[tripletsDataframe['distances'] < 30]"
   ]
  },
  {
   "cell_type": "code",
   "execution_count": 22,
   "metadata": {},
   "outputs": [],
   "source": [
    "tripletsDataframe.to_csv(\"triplets_matrix_\" + distance_metric + \"_\" + selectedItems +\".csv\", sep=\";\", header=True, index=False)"
   ]
  },
  {
   "cell_type": "code",
   "execution_count": 26,
   "metadata": {},
   "outputs": [],
   "source": [
    "tripletsDataframe[tripletsDataframe['distances'] < 90].to_csv(\"selected_triplets_\" + distance_metric + \"_\" + selectedItems +\".csv\", sep=\";\", header=True, index=False)"
   ]
  }
 ],
 "metadata": {
  "anaconda-cloud": {},
  "kernelspec": {
   "display_name": "Python 3",
   "language": "python",
   "name": "python3"
  },
  "language_info": {
   "codemirror_mode": {
    "name": "ipython",
    "version": 3
   },
   "file_extension": ".py",
   "mimetype": "text/x-python",
   "name": "python",
   "nbconvert_exporter": "python",
   "pygments_lexer": "ipython3",
   "version": "3.6.5"
  }
 },
 "nbformat": 4,
 "nbformat_minor": 1
}
